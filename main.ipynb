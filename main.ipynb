{
 "cells": [
  {
   "cell_type": "code",
   "execution_count": 4,
   "id": "e9c34e9d",
   "metadata": {},
   "outputs": [],
   "source": [
    "import pandas as pd\n",
    "import time\n",
    "import pickle\n",
    "from sklearn import svm\n",
    "from sklearn.metrics import classification_report\n",
    "from sklearn.feature_extraction.text import TfidfVectorizer"
   ]
  },
  {
   "cell_type": "code",
   "execution_count": 5,
   "id": "0182cf67",
   "metadata": {},
   "outputs": [
    {
     "data": {
      "text/html": [
       "<div>\n",
       "<style scoped>\n",
       "    .dataframe tbody tr th:only-of-type {\n",
       "        vertical-align: middle;\n",
       "    }\n",
       "\n",
       "    .dataframe tbody tr th {\n",
       "        vertical-align: top;\n",
       "    }\n",
       "\n",
       "    .dataframe thead th {\n",
       "        text-align: right;\n",
       "    }\n",
       "</style>\n",
       "<table border=\"1\" class=\"dataframe\">\n",
       "  <thead>\n",
       "    <tr style=\"text-align: right;\">\n",
       "      <th></th>\n",
       "      <th>Content</th>\n",
       "      <th>Label</th>\n",
       "    </tr>\n",
       "  </thead>\n",
       "  <tbody>\n",
       "    <tr>\n",
       "      <th>162</th>\n",
       "      <td>plot : odin is a great high school basketball ...</td>\n",
       "      <td>pos</td>\n",
       "    </tr>\n",
       "    <tr>\n",
       "      <th>600</th>\n",
       "      <td>bob the happy bastard's quickie review : \\nthe...</td>\n",
       "      <td>pos</td>\n",
       "    </tr>\n",
       "    <tr>\n",
       "      <th>659</th>\n",
       "      <td>good films are hard to find these days . \\ngre...</td>\n",
       "      <td>pos</td>\n",
       "    </tr>\n",
       "    <tr>\n",
       "      <th>1099</th>\n",
       "      <td>so ask yourself what \" 8mm \" ( \" eight millime...</td>\n",
       "      <td>neg</td>\n",
       "    </tr>\n",
       "    <tr>\n",
       "      <th>337</th>\n",
       "      <td>will hunting ( matt damon ) is a natural geniu...</td>\n",
       "      <td>pos</td>\n",
       "    </tr>\n",
       "  </tbody>\n",
       "</table>\n",
       "</div>"
      ],
      "text/plain": [
       "                                                Content Label\n",
       "162   plot : odin is a great high school basketball ...   pos\n",
       "600   bob the happy bastard's quickie review : \\nthe...   pos\n",
       "659   good films are hard to find these days . \\ngre...   pos\n",
       "1099  so ask yourself what \" 8mm \" ( \" eight millime...   neg\n",
       "337   will hunting ( matt damon ) is a natural geniu...   pos"
      ]
     },
     "execution_count": 5,
     "metadata": {},
     "output_type": "execute_result"
    }
   ],
   "source": [
    "trainData = pd.read_csv(\"https://raw.githubusercontent.com/Vasistareddy/sentiment_analysis/master/data/train.csv\")\n",
    "testData = pd.read_csv(\"https://raw.githubusercontent.com/Vasistareddy/sentiment_analysis/master/data/test.csv\")\n",
    "\n",
    "# Display sample\n",
    "trainData.sample(frac=1).head()"
   ]
  },
  {
   "cell_type": "code",
   "execution_count": 6,
   "id": "df2e3229",
   "metadata": {},
   "outputs": [],
   "source": [
    "vectorizer = TfidfVectorizer(min_df=5, max_df=0.8, sublinear_tf=True, use_idf=True)\n",
    "train_vectors = vectorizer.fit_transform(trainData['Content'])\n",
    "test_vectors = vectorizer.transform(testData['Content'])"
   ]
  },
  {
   "cell_type": "code",
   "execution_count": 8,
   "id": "1c3dea75",
   "metadata": {},
   "outputs": [
    {
     "name": "stdout",
     "output_type": "stream",
     "text": [
      "Training time: 7.166035s; Prediction time: 0.596265s\n"
     ]
    }
   ],
   "source": [
    "classifier_linear = svm.SVC(kernel='linear')\n",
    "t0 = time.time()\n",
    "classifier_linear.fit(train_vectors, trainData['Label'])\n",
    "t1 = time.time()\n",
    "prediction_linear = classifier_linear.predict(test_vectors)\n",
    "t2 = time.time()\n",
    "\n",
    "print(\"Training time: %fs; Prediction time: %fs\" % (t1 - t0, t2 - t1))"
   ]
  },
  {
   "cell_type": "code",
   "execution_count": 9,
   "id": "faa6acfb",
   "metadata": {},
   "outputs": [
    {
     "name": "stdout",
     "output_type": "stream",
     "text": [
      "positive:  {'precision': 0.9191919191919192, 'recall': 0.91, 'f1-score': 0.914572864321608, 'support': 100.0}\n",
      "negative:  {'precision': 0.9108910891089109, 'recall': 0.92, 'f1-score': 0.9154228855721394, 'support': 100.0}\n"
     ]
    }
   ],
   "source": [
    "report = classification_report(testData['Label'], prediction_linear, output_dict=True)\n",
    "print('positive: ', report['pos'])\n",
    "print('negative: ', report['neg'])"
   ]
  },
  {
   "cell_type": "code",
   "execution_count": 10,
   "id": "5bf117d8",
   "metadata": {},
   "outputs": [
    {
     "name": "stdout",
     "output_type": "stream",
     "text": [
      "Review: SUPERB, I AM IN LOVE IN THIS PHONE\n",
      "Prediction: pos\n",
      "\n",
      "Review: Do not purchase this product. My cell phone blast when I switched the charger\n",
      "Prediction: neg\n",
      "\n",
      "Review: I received defective piece display is not working properly\n",
      "Prediction: neg\n",
      "\n",
      "Review: It's not even 5 days since i purchased this product.\n",
      "I would say this a specially blended worst Phone in all formats. ...\n",
      "Prediction: neg\n",
      "\n"
     ]
    }
   ],
   "source": [
    "reviews = [\n",
    "    \"SUPERB, I AM IN LOVE IN THIS PHONE\",\n",
    "    \"Do not purchase this product. My cell phone blast when I switched the charger\",\n",
    "    \"I received defective piece display is not working properly\",\n",
    "    \"It's not even 5 days since i purchased this product.\\nI would say this a specially blended worst Phone in all formats. ...\"\n",
    "]\n",
    "\n",
    "for review in reviews:\n",
    "    review_vector = vectorizer.transform([review])\n",
    "    print(f\"Review: {review}\\nPrediction: {classifier_linear.predict(review_vector)[0]}\\n\")"
   ]
  },
  {
   "cell_type": "code",
   "execution_count": 11,
   "id": "7082acae",
   "metadata": {},
   "outputs": [],
   "source": [
    "pickle.dump(vectorizer, open('vectorizer.sav', 'wb'))\n",
    "pickle.dump(classifier_linear, open('classifier.sav', 'wb'))"
   ]
  }
 ],
 "metadata": {
  "kernelspec": {
   "display_name": "Python 3",
   "language": "python",
   "name": "python3"
  },
  "language_info": {
   "codemirror_mode": {
    "name": "ipython",
    "version": 3
   },
   "file_extension": ".py",
   "mimetype": "text/x-python",
   "name": "python",
   "nbconvert_exporter": "python",
   "pygments_lexer": "ipython3",
   "version": "3.10.6"
  }
 },
 "nbformat": 4,
 "nbformat_minor": 5
}
